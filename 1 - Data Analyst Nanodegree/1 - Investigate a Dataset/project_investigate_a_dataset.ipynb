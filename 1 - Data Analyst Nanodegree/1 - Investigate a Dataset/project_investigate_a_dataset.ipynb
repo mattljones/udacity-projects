{
 "cells": [
  {
   "cell_type": "markdown",
   "metadata": {},
   "source": [
    "# Project: No-show Appointments in Brazil\n",
    "\n",
    "## Table of Contents\n",
    "<ul>\n",
    "<li><a href=\"#intro\">Introduction</a></li>\n",
    "<li><a href=\"#wrangling\">Data Wrangling</a></li>\n",
    "<li><a href=\"#eda\">Exploratory Data Analysis</a></li>\n",
    "<li><a href=\"#conclusions\">Conclusions</a></li>\n",
    "</ul>"
   ]
  },
  {
   "cell_type": "markdown",
   "metadata": {},
   "source": [
    "<a id='intro'></a>\n",
    "## Introduction\n",
    "\n",
    "This notebook performs data analysis on the **No-show appointments** dataset from Kaggle. \n",
    "\n",
    "The dataset contains 13 data points for 110,527 historic medical appointments in Brazil, ranging from the date the appointment was booked for to whether the patient was sent an SMS reminder. The final, 14th data point per appointment indicates whether the patient showed up to the appointment or not (i.e. was a 'no-show'). \n",
    "\n",
    "The dataset is focused on investigating which factors are important for determining whether an appointment was a no-show. This is an important question, since no-shows are both a waste of medical system resources and potentially make care less available to those in more urgent need. \n",
    "\n",
    "According to the dataset's description on Kaggle, the 13 independent variables are:\n",
    "- **PatientId**\n",
    "- **AppointmentID**\n",
    "- **Gender** \n",
    "- **ScheduledDay:** The date the appointment was booked (can be the same day)\n",
    "- **AppointmentDay:** The date of the actual appointment\n",
    "- **Age**\n",
    "- **Neighbourhood:** Where the appointment took place (not necessarily the patient's own neighbourhood)\n",
    "- **Scholarship:** Is the patient enrolled in the Brazilian welfare program *Bolsa Familia*?\n",
    "- **Hipertension:** Does the patient suffer from hypertension? \n",
    "- **Diabetes:** Does the patient suffer from diabetes?\n",
    "- **Alcoholism:** Does the patient suffer from alcoholism?\n",
    "- **Handcap:** How many handicaps does the patient have? (Note: clarified by the dataset's owner in a comment on Kaggle)\n",
    "- **SMS_received:** Did the patient receive at least one SMS reminder?\n",
    "\n",
    "The dependent (14th) variable is:\n",
    "- **No-show:** Was the patient a no-show?\n",
    "\n",
    "This is therefore a *classification* problem, and numerous questions could be investigated here. However, this notebook does not make use of inferential statistics or machine learning techniques and, instead, focuses on exploring associations related to the following broad questions:\n",
    "1. *Are older or younger individuals more likely to be no-shows?*\n",
    "2. *Are men or women more likely to be no-shows?*\n",
    "3. *Are those on welfare more or less likely to be no-shows?*\n",
    "4. *Does having a medical condition or handicap make being a no-show more or less likely?*\n",
    "5. *To what extent does booking in advance change the likelihood of no-shows?* "
   ]
  },
  {
   "cell_type": "code",
   "execution_count": 1,
   "metadata": {},
   "outputs": [],
   "source": [
    "# Import libraries\n",
    "\n",
    "import numpy as np\n",
    "import pandas as pd\n",
    "import matplotlib.pyplot as plt\n",
    "import seaborn as sns\n",
    "sns.set_theme()\n",
    "%matplotlib inline"
   ]
  },
  {
   "cell_type": "markdown",
   "metadata": {},
   "source": [
    "<a id='wrangling'></a>\n",
    "## Data Wrangling\n",
    "\n",
    "The **General Properties** section identifies the following data cleaning tasks, which are then conducted in the **Data Cleaning** section:\n",
    "\n",
    "- Column renaming\n",
    "- Remove rows with negative ages\n",
    "- Optimise datatypes\n",
    "- Drop unnecessary columns for the questions identified previously\n",
    "- Add useful (derived) columns\n",
    "\n",
    "### General Properties"
   ]
  },
  {
   "cell_type": "code",
   "execution_count": 2,
   "metadata": {},
   "outputs": [],
   "source": [
    "# Load data from .csv in this directory\n",
    "\n",
    "df = pd.read_csv('no_show_appointments.csv')"
   ]
  },
  {
   "cell_type": "markdown",
   "metadata": {},
   "source": [
    "The dataset has 110,527 rows (appointments) and 14 columns (13 independent variables and a 'No-show' dependent variable)."
   ]
  },
  {
   "cell_type": "code",
   "execution_count": 3,
   "metadata": {},
   "outputs": [
    {
     "name": "stdout",
     "output_type": "stream",
     "text": [
      "Num. appointments:\t 110527\n",
      "Num. columns:\t\t 14\n",
      "\n",
      "First 5 rows:\n"
     ]
    },
    {
     "data": {
      "text/html": [
       "<div>\n",
       "<style scoped>\n",
       "    .dataframe tbody tr th:only-of-type {\n",
       "        vertical-align: middle;\n",
       "    }\n",
       "\n",
       "    .dataframe tbody tr th {\n",
       "        vertical-align: top;\n",
       "    }\n",
       "\n",
       "    .dataframe thead th {\n",
       "        text-align: right;\n",
       "    }\n",
       "</style>\n",
       "<table border=\"1\" class=\"dataframe\">\n",
       "  <thead>\n",
       "    <tr style=\"text-align: right;\">\n",
       "      <th></th>\n",
       "      <th>PatientId</th>\n",
       "      <th>AppointmentID</th>\n",
       "      <th>Gender</th>\n",
       "      <th>ScheduledDay</th>\n",
       "      <th>AppointmentDay</th>\n",
       "      <th>Age</th>\n",
       "      <th>Neighbourhood</th>\n",
       "      <th>Scholarship</th>\n",
       "      <th>Hipertension</th>\n",
       "      <th>Diabetes</th>\n",
       "      <th>Alcoholism</th>\n",
       "      <th>Handcap</th>\n",
       "      <th>SMS_received</th>\n",
       "      <th>No-show</th>\n",
       "    </tr>\n",
       "  </thead>\n",
       "  <tbody>\n",
       "    <tr>\n",
       "      <th>0</th>\n",
       "      <td>2.987250e+13</td>\n",
       "      <td>5642903</td>\n",
       "      <td>F</td>\n",
       "      <td>2016-04-29T18:38:08Z</td>\n",
       "      <td>2016-04-29T00:00:00Z</td>\n",
       "      <td>62</td>\n",
       "      <td>JARDIM DA PENHA</td>\n",
       "      <td>0</td>\n",
       "      <td>1</td>\n",
       "      <td>0</td>\n",
       "      <td>0</td>\n",
       "      <td>0</td>\n",
       "      <td>0</td>\n",
       "      <td>No</td>\n",
       "    </tr>\n",
       "    <tr>\n",
       "      <th>1</th>\n",
       "      <td>5.589978e+14</td>\n",
       "      <td>5642503</td>\n",
       "      <td>M</td>\n",
       "      <td>2016-04-29T16:08:27Z</td>\n",
       "      <td>2016-04-29T00:00:00Z</td>\n",
       "      <td>56</td>\n",
       "      <td>JARDIM DA PENHA</td>\n",
       "      <td>0</td>\n",
       "      <td>0</td>\n",
       "      <td>0</td>\n",
       "      <td>0</td>\n",
       "      <td>0</td>\n",
       "      <td>0</td>\n",
       "      <td>No</td>\n",
       "    </tr>\n",
       "    <tr>\n",
       "      <th>2</th>\n",
       "      <td>4.262962e+12</td>\n",
       "      <td>5642549</td>\n",
       "      <td>F</td>\n",
       "      <td>2016-04-29T16:19:04Z</td>\n",
       "      <td>2016-04-29T00:00:00Z</td>\n",
       "      <td>62</td>\n",
       "      <td>MATA DA PRAIA</td>\n",
       "      <td>0</td>\n",
       "      <td>0</td>\n",
       "      <td>0</td>\n",
       "      <td>0</td>\n",
       "      <td>0</td>\n",
       "      <td>0</td>\n",
       "      <td>No</td>\n",
       "    </tr>\n",
       "    <tr>\n",
       "      <th>3</th>\n",
       "      <td>8.679512e+11</td>\n",
       "      <td>5642828</td>\n",
       "      <td>F</td>\n",
       "      <td>2016-04-29T17:29:31Z</td>\n",
       "      <td>2016-04-29T00:00:00Z</td>\n",
       "      <td>8</td>\n",
       "      <td>PONTAL DE CAMBURI</td>\n",
       "      <td>0</td>\n",
       "      <td>0</td>\n",
       "      <td>0</td>\n",
       "      <td>0</td>\n",
       "      <td>0</td>\n",
       "      <td>0</td>\n",
       "      <td>No</td>\n",
       "    </tr>\n",
       "    <tr>\n",
       "      <th>4</th>\n",
       "      <td>8.841186e+12</td>\n",
       "      <td>5642494</td>\n",
       "      <td>F</td>\n",
       "      <td>2016-04-29T16:07:23Z</td>\n",
       "      <td>2016-04-29T00:00:00Z</td>\n",
       "      <td>56</td>\n",
       "      <td>JARDIM DA PENHA</td>\n",
       "      <td>0</td>\n",
       "      <td>1</td>\n",
       "      <td>1</td>\n",
       "      <td>0</td>\n",
       "      <td>0</td>\n",
       "      <td>0</td>\n",
       "      <td>No</td>\n",
       "    </tr>\n",
       "  </tbody>\n",
       "</table>\n",
       "</div>"
      ],
      "text/plain": [
       "      PatientId  AppointmentID Gender          ScheduledDay  \\\n",
       "0  2.987250e+13        5642903      F  2016-04-29T18:38:08Z   \n",
       "1  5.589978e+14        5642503      M  2016-04-29T16:08:27Z   \n",
       "2  4.262962e+12        5642549      F  2016-04-29T16:19:04Z   \n",
       "3  8.679512e+11        5642828      F  2016-04-29T17:29:31Z   \n",
       "4  8.841186e+12        5642494      F  2016-04-29T16:07:23Z   \n",
       "\n",
       "         AppointmentDay  Age      Neighbourhood  Scholarship  Hipertension  \\\n",
       "0  2016-04-29T00:00:00Z   62    JARDIM DA PENHA            0             1   \n",
       "1  2016-04-29T00:00:00Z   56    JARDIM DA PENHA            0             0   \n",
       "2  2016-04-29T00:00:00Z   62      MATA DA PRAIA            0             0   \n",
       "3  2016-04-29T00:00:00Z    8  PONTAL DE CAMBURI            0             0   \n",
       "4  2016-04-29T00:00:00Z   56    JARDIM DA PENHA            0             1   \n",
       "\n",
       "   Diabetes  Alcoholism  Handcap  SMS_received No-show  \n",
       "0         0           0        0             0      No  \n",
       "1         0           0        0             0      No  \n",
       "2         0           0        0             0      No  \n",
       "3         0           0        0             0      No  \n",
       "4         1           0        0             0      No  "
      ]
     },
     "execution_count": 3,
     "metadata": {},
     "output_type": "execute_result"
    }
   ],
   "source": [
    "# View DataFrame dimensions and preview\n",
    "\n",
    "print('Num. appointments:\\t', df.shape[0])\n",
    "print('Num. columns:\\t\\t', df.shape[1])\n",
    "print('\\nFirst 5 rows:')\n",
    "df.head()"
   ]
  },
  {
   "cell_type": "markdown",
   "metadata": {},
   "source": [
    "It is clear that the column names contain spelling mistakes, ambiguities (e.g. 'Handcap' is not boolean but, rather, a count of the number of handicaps the patient has) and inconsistent conventions (e.g. upper camel case vs. pythonic underscores). For consistency, and to avoid bugs later in the notebook, these should be fixed.\n",
    "\n",
    "> **TASK:** Rename columns"
   ]
  },
  {
   "cell_type": "markdown",
   "metadata": {},
   "source": [
    "Looking at the data itself, we first note that the dataset does not contain any null values or duplicated rows."
   ]
  },
  {
   "cell_type": "code",
   "execution_count": 4,
   "metadata": {},
   "outputs": [
    {
     "name": "stdout",
     "output_type": "stream",
     "text": [
      "Num. nulls:\t 0\n",
      "Num. duplicates: 0\n"
     ]
    }
   ],
   "source": [
    "# Count nulls and duplicates\n",
    "\n",
    "num_nulls = len(df.index) - len(df.dropna().index)\n",
    "num_duplicates = sum(df.duplicated())\n",
    "\n",
    "print('Num. nulls:\\t', num_nulls)\n",
    "print('Num. duplicates:', num_duplicates)"
   ]
  },
  {
   "cell_type": "markdown",
   "metadata": {},
   "source": [
    "Next, generate summary statistics for the data to check for any issues:\n",
    "- Overall statistics\n",
    "- Number of unique values"
   ]
  },
  {
   "cell_type": "code",
   "execution_count": 5,
   "metadata": {},
   "outputs": [
    {
     "data": {
      "text/html": [
       "<div>\n",
       "<style scoped>\n",
       "    .dataframe tbody tr th:only-of-type {\n",
       "        vertical-align: middle;\n",
       "    }\n",
       "\n",
       "    .dataframe tbody tr th {\n",
       "        vertical-align: top;\n",
       "    }\n",
       "\n",
       "    .dataframe thead th {\n",
       "        text-align: right;\n",
       "    }\n",
       "</style>\n",
       "<table border=\"1\" class=\"dataframe\">\n",
       "  <thead>\n",
       "    <tr style=\"text-align: right;\">\n",
       "      <th></th>\n",
       "      <th>PatientId</th>\n",
       "      <th>AppointmentID</th>\n",
       "      <th>Age</th>\n",
       "      <th>Scholarship</th>\n",
       "      <th>Hipertension</th>\n",
       "      <th>Diabetes</th>\n",
       "      <th>Alcoholism</th>\n",
       "      <th>Handcap</th>\n",
       "      <th>SMS_received</th>\n",
       "    </tr>\n",
       "  </thead>\n",
       "  <tbody>\n",
       "    <tr>\n",
       "      <th>count</th>\n",
       "      <td>1.105270e+05</td>\n",
       "      <td>1.105270e+05</td>\n",
       "      <td>110527.000000</td>\n",
       "      <td>110527.000000</td>\n",
       "      <td>110527.000000</td>\n",
       "      <td>110527.000000</td>\n",
       "      <td>110527.000000</td>\n",
       "      <td>110527.000000</td>\n",
       "      <td>110527.000000</td>\n",
       "    </tr>\n",
       "    <tr>\n",
       "      <th>mean</th>\n",
       "      <td>1.474963e+14</td>\n",
       "      <td>5.675305e+06</td>\n",
       "      <td>37.088874</td>\n",
       "      <td>0.098266</td>\n",
       "      <td>0.197246</td>\n",
       "      <td>0.071865</td>\n",
       "      <td>0.030400</td>\n",
       "      <td>0.022248</td>\n",
       "      <td>0.321026</td>\n",
       "    </tr>\n",
       "    <tr>\n",
       "      <th>std</th>\n",
       "      <td>2.560949e+14</td>\n",
       "      <td>7.129575e+04</td>\n",
       "      <td>23.110205</td>\n",
       "      <td>0.297675</td>\n",
       "      <td>0.397921</td>\n",
       "      <td>0.258265</td>\n",
       "      <td>0.171686</td>\n",
       "      <td>0.161543</td>\n",
       "      <td>0.466873</td>\n",
       "    </tr>\n",
       "    <tr>\n",
       "      <th>min</th>\n",
       "      <td>3.921784e+04</td>\n",
       "      <td>5.030230e+06</td>\n",
       "      <td>-1.000000</td>\n",
       "      <td>0.000000</td>\n",
       "      <td>0.000000</td>\n",
       "      <td>0.000000</td>\n",
       "      <td>0.000000</td>\n",
       "      <td>0.000000</td>\n",
       "      <td>0.000000</td>\n",
       "    </tr>\n",
       "    <tr>\n",
       "      <th>25%</th>\n",
       "      <td>4.172614e+12</td>\n",
       "      <td>5.640286e+06</td>\n",
       "      <td>18.000000</td>\n",
       "      <td>0.000000</td>\n",
       "      <td>0.000000</td>\n",
       "      <td>0.000000</td>\n",
       "      <td>0.000000</td>\n",
       "      <td>0.000000</td>\n",
       "      <td>0.000000</td>\n",
       "    </tr>\n",
       "    <tr>\n",
       "      <th>50%</th>\n",
       "      <td>3.173184e+13</td>\n",
       "      <td>5.680573e+06</td>\n",
       "      <td>37.000000</td>\n",
       "      <td>0.000000</td>\n",
       "      <td>0.000000</td>\n",
       "      <td>0.000000</td>\n",
       "      <td>0.000000</td>\n",
       "      <td>0.000000</td>\n",
       "      <td>0.000000</td>\n",
       "    </tr>\n",
       "    <tr>\n",
       "      <th>75%</th>\n",
       "      <td>9.439172e+13</td>\n",
       "      <td>5.725524e+06</td>\n",
       "      <td>55.000000</td>\n",
       "      <td>0.000000</td>\n",
       "      <td>0.000000</td>\n",
       "      <td>0.000000</td>\n",
       "      <td>0.000000</td>\n",
       "      <td>0.000000</td>\n",
       "      <td>1.000000</td>\n",
       "    </tr>\n",
       "    <tr>\n",
       "      <th>max</th>\n",
       "      <td>9.999816e+14</td>\n",
       "      <td>5.790484e+06</td>\n",
       "      <td>115.000000</td>\n",
       "      <td>1.000000</td>\n",
       "      <td>1.000000</td>\n",
       "      <td>1.000000</td>\n",
       "      <td>1.000000</td>\n",
       "      <td>4.000000</td>\n",
       "      <td>1.000000</td>\n",
       "    </tr>\n",
       "  </tbody>\n",
       "</table>\n",
       "</div>"
      ],
      "text/plain": [
       "          PatientId  AppointmentID            Age    Scholarship  \\\n",
       "count  1.105270e+05   1.105270e+05  110527.000000  110527.000000   \n",
       "mean   1.474963e+14   5.675305e+06      37.088874       0.098266   \n",
       "std    2.560949e+14   7.129575e+04      23.110205       0.297675   \n",
       "min    3.921784e+04   5.030230e+06      -1.000000       0.000000   \n",
       "25%    4.172614e+12   5.640286e+06      18.000000       0.000000   \n",
       "50%    3.173184e+13   5.680573e+06      37.000000       0.000000   \n",
       "75%    9.439172e+13   5.725524e+06      55.000000       0.000000   \n",
       "max    9.999816e+14   5.790484e+06     115.000000       1.000000   \n",
       "\n",
       "        Hipertension       Diabetes     Alcoholism        Handcap  \\\n",
       "count  110527.000000  110527.000000  110527.000000  110527.000000   \n",
       "mean        0.197246       0.071865       0.030400       0.022248   \n",
       "std         0.397921       0.258265       0.171686       0.161543   \n",
       "min         0.000000       0.000000       0.000000       0.000000   \n",
       "25%         0.000000       0.000000       0.000000       0.000000   \n",
       "50%         0.000000       0.000000       0.000000       0.000000   \n",
       "75%         0.000000       0.000000       0.000000       0.000000   \n",
       "max         1.000000       1.000000       1.000000       4.000000   \n",
       "\n",
       "        SMS_received  \n",
       "count  110527.000000  \n",
       "mean        0.321026  \n",
       "std         0.466873  \n",
       "min         0.000000  \n",
       "25%         0.000000  \n",
       "50%         0.000000  \n",
       "75%         1.000000  \n",
       "max         1.000000  "
      ]
     },
     "execution_count": 5,
     "metadata": {},
     "output_type": "execute_result"
    }
   ],
   "source": [
    "# Overall statistics\n",
    "\n",
    "df.describe()"
   ]
  },
  {
   "cell_type": "code",
   "execution_count": 6,
   "metadata": {
    "scrolled": true
   },
   "outputs": [
    {
     "data": {
      "text/plain": [
       "PatientId          62299\n",
       "AppointmentID     110527\n",
       "Gender                 2\n",
       "ScheduledDay      103549\n",
       "AppointmentDay        27\n",
       "Age                  104\n",
       "Neighbourhood         81\n",
       "Scholarship            2\n",
       "Hipertension           2\n",
       "Diabetes               2\n",
       "Alcoholism             2\n",
       "Handcap                5\n",
       "SMS_received           2\n",
       "No-show                2\n",
       "dtype: int64"
      ]
     },
     "execution_count": 6,
     "metadata": {},
     "output_type": "execute_result"
    }
   ],
   "source": [
    "# Number of unique values\n",
    "\n",
    "df.nunique()"
   ]
  },
  {
   "cell_type": "markdown",
   "metadata": {},
   "source": [
    "First, note that each of the appointment IDs are unique, which implies that the dataset does not feature the same appointment more than once, as desired. Should the same appointment ID appear more than once, but with different associated characteristics, this could indicate an issue that the previous duplicate count would not have detected. \n",
    "\n",
    "By contrast, the data does feature patients who booked multiple appointments in the period, as is to be expected. This could be used for analysing the likelihood of a patient missing an appointment if they missed a previous appointment, for example, although such analysis is not conducted in this notebook. Instead, it is left as an avenue for future work. \n",
    "\n",
    "Next, note that the boolean variables appear not to include any errors since each has only two unique values (M/F for gender, and 0/1 otherwise). These tables also emphasise that the 'Handcap' variable refers to the number of handicaps an individual has, rather than simply whether they are handicapped in any way, as discussed previously.\n",
    "\n",
    "One **issue**, however, is that age has an (impossible) minimum value of -1. There are, in addition, a number of age 0 patients: "
   ]
  },
  {
   "cell_type": "code",
   "execution_count": 7,
   "metadata": {},
   "outputs": [
    {
     "name": "stdout",
     "output_type": "stream",
     "text": [
      "Num age 0:\t 3539\n",
      "Num age -1:\t 1\n",
      "\n",
      "Age -1 appointment details:\n"
     ]
    },
    {
     "data": {
      "text/html": [
       "<div>\n",
       "<style scoped>\n",
       "    .dataframe tbody tr th:only-of-type {\n",
       "        vertical-align: middle;\n",
       "    }\n",
       "\n",
       "    .dataframe tbody tr th {\n",
       "        vertical-align: top;\n",
       "    }\n",
       "\n",
       "    .dataframe thead th {\n",
       "        text-align: right;\n",
       "    }\n",
       "</style>\n",
       "<table border=\"1\" class=\"dataframe\">\n",
       "  <thead>\n",
       "    <tr style=\"text-align: right;\">\n",
       "      <th></th>\n",
       "      <th>PatientId</th>\n",
       "      <th>AppointmentID</th>\n",
       "      <th>Gender</th>\n",
       "      <th>ScheduledDay</th>\n",
       "      <th>AppointmentDay</th>\n",
       "      <th>Age</th>\n",
       "      <th>Neighbourhood</th>\n",
       "      <th>Scholarship</th>\n",
       "      <th>Hipertension</th>\n",
       "      <th>Diabetes</th>\n",
       "      <th>Alcoholism</th>\n",
       "      <th>Handcap</th>\n",
       "      <th>SMS_received</th>\n",
       "      <th>No-show</th>\n",
       "    </tr>\n",
       "  </thead>\n",
       "  <tbody>\n",
       "    <tr>\n",
       "      <th>99832</th>\n",
       "      <td>4.659432e+14</td>\n",
       "      <td>5775010</td>\n",
       "      <td>F</td>\n",
       "      <td>2016-06-06T08:58:13Z</td>\n",
       "      <td>2016-06-06T00:00:00Z</td>\n",
       "      <td>-1</td>\n",
       "      <td>ROMÃO</td>\n",
       "      <td>0</td>\n",
       "      <td>0</td>\n",
       "      <td>0</td>\n",
       "      <td>0</td>\n",
       "      <td>0</td>\n",
       "      <td>0</td>\n",
       "      <td>No</td>\n",
       "    </tr>\n",
       "  </tbody>\n",
       "</table>\n",
       "</div>"
      ],
      "text/plain": [
       "          PatientId  AppointmentID Gender          ScheduledDay  \\\n",
       "99832  4.659432e+14        5775010      F  2016-06-06T08:58:13Z   \n",
       "\n",
       "             AppointmentDay  Age Neighbourhood  Scholarship  Hipertension  \\\n",
       "99832  2016-06-06T00:00:00Z   -1         ROMÃO            0             0   \n",
       "\n",
       "       Diabetes  Alcoholism  Handcap  SMS_received No-show  \n",
       "99832         0           0        0             0      No  "
      ]
     },
     "execution_count": 7,
     "metadata": {},
     "output_type": "execute_result"
    }
   ],
   "source": [
    "# Number of patients with an age of -1 or 0\n",
    "\n",
    "print('Num age 0:\\t', len(df.query('Age == 0').index))\n",
    "print('Num age -1:\\t', len(df.query('Age == -1').index))\n",
    "\n",
    "print('\\nAge -1 appointment details:')\n",
    "df.query('Age == -1')"
   ]
  },
  {
   "cell_type": "markdown",
   "metadata": {},
   "source": [
    "- **Age 0:** Since there are 3539 age 0 patients, it seems unlikely that this is an error: instead it is probably referring to prenatal care. \n",
    "- **Age -1:** Although there is nothing obviously wrong about other fields for the patient's appointment, this still seems likely to be an error and should therefore be removed. \n",
    "\n",
    "> **TASK:** Remove row with age == -1"
   ]
  },
  {
   "cell_type": "markdown",
   "metadata": {},
   "source": [
    "Another important consideration is whether the DataFrame is using the appropriate datatypes. Currently, these are:"
   ]
  },
  {
   "cell_type": "code",
   "execution_count": 8,
   "metadata": {},
   "outputs": [
    {
     "data": {
      "text/plain": [
       "PatientId         float64\n",
       "AppointmentID       int64\n",
       "Gender             object\n",
       "ScheduledDay       object\n",
       "AppointmentDay     object\n",
       "Age                 int64\n",
       "Neighbourhood      object\n",
       "Scholarship         int64\n",
       "Hipertension        int64\n",
       "Diabetes            int64\n",
       "Alcoholism          int64\n",
       "Handcap             int64\n",
       "SMS_received        int64\n",
       "No-show            object\n",
       "dtype: object"
      ]
     },
     "execution_count": 8,
     "metadata": {},
     "output_type": "execute_result"
    }
   ],
   "source": [
    "# List column datatypes\n",
    "\n",
    "df.dtypes"
   ]
  },
  {
   "cell_type": "markdown",
   "metadata": {},
   "source": [
    "The integer datatypes are used correctly for both booleans and numeric data. Since Pandas stores pointers to more complex objects (a performance optimisation), the remaining columns are listed as 'objects' but are in fact strings:"
   ]
  },
  {
   "cell_type": "code",
   "execution_count": 9,
   "metadata": {},
   "outputs": [
    {
     "name": "stdout",
     "output_type": "stream",
     "text": [
      "Gender: <class 'str'>\n",
      "ScheduledDay: <class 'str'>\n",
      "AppointmentDay: <class 'str'>\n",
      "Neighbourhood: <class 'str'>\n",
      "No-show: <class 'str'>\n"
     ]
    }
   ],
   "source": [
    "# List actual 'object' datatypes\n",
    "\n",
    "for col in ['Gender', 'ScheduledDay', 'AppointmentDay', 'Neighbourhood', 'No-show']:\n",
    "    print('{}: {}'.format(col, type(df[col][0])))"
   ]
  },
  {
   "cell_type": "markdown",
   "metadata": {},
   "source": [
    "- **Gender:** Could be renamed then converted to an integer boolean representation, for consistency, but M/F is more readable\n",
    "- **ScheduledDay & AppointmentDay:** Should be converted to Python datetime objects\n",
    "- **Neighbourhood & No-show:** Stored as strings as appropriate\n",
    "\n",
    "> **TASK:** Convert date strings to datetime objects"
   ]
  },
  {
   "cell_type": "markdown",
   "metadata": {},
   "source": [
    "It would also be useful to both add and remove various columns after cleaning has been completed:\n",
    "- **PatientId & AppointmentID:** These will not be used in the analysis that follows, and can therefore be dropped\n",
    "- **days_in_advance:** This seems likely to be an useful derived column for the datatable\n",
    "- **num_conditions:** Abstracts away from the complexity of individuals having different combinations of conditions\n",
    "- **age_category:** This would also be useful for visualisation due to the number of different ages\n",
    "\n",
    "> **TASK:** Drop unnecessary ID columns\n",
    "\n",
    "> **TASK:** Add useful (derived) columns"
   ]
  },
  {
   "cell_type": "markdown",
   "metadata": {},
   "source": [
    "### Data Cleaning\n",
    "\n",
    "This section completes the data cleaning tasks identified previously."
   ]
  },
  {
   "cell_type": "code",
   "execution_count": 10,
   "metadata": {},
   "outputs": [],
   "source": [
    "# Rename columns\n",
    "\n",
    "new_cols = [\n",
    "    'patient_ID', \n",
    "    'appointment_ID',\n",
    "    'gender',\n",
    "    'scheduled_day',\n",
    "    'appointment_day',\n",
    "    'age',\n",
    "    'neighbourhood',\n",
    "    'has_scholarship',\n",
    "    'has_hypertension',\n",
    "    'has_diabetes',\n",
    "    'has_alcoholism',\n",
    "    'num_handicaps',\n",
    "    'received_SMS',\n",
    "    'no_show'\n",
    "]\n",
    "\n",
    "df.columns = new_cols"
   ]
  },
  {
   "cell_type": "code",
   "execution_count": 11,
   "metadata": {},
   "outputs": [],
   "source": [
    "# Drop age -1 record\n",
    "\n",
    "df.drop(df[df['age'] == -1].index, inplace=True)"
   ]
  },
  {
   "cell_type": "code",
   "execution_count": 12,
   "metadata": {},
   "outputs": [],
   "source": [
    "# Convert scheduled_day and appointment_day strings to datetime objects\n",
    "\n",
    "df['scheduled_day'] = pd.to_datetime(df['scheduled_day'])\n",
    "df['appointment_day'] = pd.to_datetime(df['appointment_day'])"
   ]
  },
  {
   "cell_type": "code",
   "execution_count": 13,
   "metadata": {},
   "outputs": [],
   "source": [
    "# Drop patient_ID and appointment_ID columns\n",
    "\n",
    "df.drop(['patient_ID', 'appointment_ID'], axis=1, inplace=True)"
   ]
  },
  {
   "cell_type": "code",
   "execution_count": 14,
   "metadata": {},
   "outputs": [],
   "source": [
    "# Add derived days_in_advance column\n",
    "\n",
    "df['days_in_advance'] = (df['appointment_day'].dt.floor('d') - df['scheduled_day'].dt.floor('d')).dt.days\n",
    "\n",
    "# Remove the 5 rows which have a negative days_in_advance value\n",
    "df.drop(df[df['days_in_advance'] < 0].index, inplace=True)"
   ]
  },
  {
   "cell_type": "code",
   "execution_count": 15,
   "metadata": {},
   "outputs": [],
   "source": [
    "# Add derived num_conditions column\n",
    "\n",
    "df['num_conditions'] = df['has_hypertension'] + df['has_diabetes'] + df['has_alcoholism']"
   ]
  },
  {
   "cell_type": "code",
   "execution_count": 16,
   "metadata": {},
   "outputs": [],
   "source": [
    "# Add derived age_category column\n",
    "\n",
    "bin_edges = [0, 18, 35, 59, 115]\n",
    "bin_names = ['Under 18', '19 to 35', '36 to 59', '60 plus']\n",
    "df['age_category'] = pd.cut(df['age'], bin_edges, labels=bin_names)"
   ]
  },
  {
   "cell_type": "markdown",
   "metadata": {},
   "source": [
    "<a id='eda'></a>\n",
    "## Exploratory Data Analysis\n",
    "\n",
    "### Helper functions"
   ]
  },
  {
   "cell_type": "code",
   "execution_count": 17,
   "metadata": {},
   "outputs": [],
   "source": [
    "def plot_bar_chart(heights, labels, title, xlabel, ylabel):\n",
    "    locations = np.arange(len(labels))\n",
    "    plt.bar(locations, heights, tick_label=labels)\n",
    "    plt.title(title)\n",
    "    plt.xlabel(xlabel)\n",
    "    plt.ylabel(ylabel);"
   ]
  },
  {
   "cell_type": "code",
   "execution_count": 18,
   "metadata": {},
   "outputs": [],
   "source": [
    "def plot_grouped_bar(series1, series1_label, series2, series2_label, title, xlabel, ylabel, xticks=None):\n",
    "    pos = np.arange(0, 5)\n",
    "    width = 0.5\n",
    "    plt.figure(figsize=(10,4))\n",
    "    plt.bar(pos - width/4, series1, width/2, label=series1_label)\n",
    "    plt.bar(pos + width/4, series2, width/2, label=series2_label)\n",
    "    plt.title(title)\n",
    "    plt.xlabel(xlabel)\n",
    "    plt.ylabel(ylabel)\n",
    "    if xticks is not None:\n",
    "        plt.xticks(pos, xticks)\n",
    "    plt.legend();"
   ]
  },
  {
   "cell_type": "markdown",
   "metadata": {},
   "source": [
    "### Are older or younger individuals more likely to be no-shows?"
   ]
  },
  {
   "cell_type": "code",
   "execution_count": 19,
   "metadata": {},
   "outputs": [
    {
     "data": {
      "image/png": "[encoded data removed]",
      "text/plain": [
       "<Figure size 432x288 with 1 Axes>"
      ]
     },
     "metadata": {
      "needs_background": "light"
     },
     "output_type": "display_data"
    }
   ],
   "source": [
    "# Helper masks\n",
    "under_18 = df['age_category'] == 'Under 18'\n",
    "_19_to_35 = df['age_category'] == '19 to 35'\n",
    "_36_to_59 = df['age_category'] == '36 to 59'\n",
    "_60_plus = df['age_category'] == '60 plus'\n",
    "is_no_show = df['no_show'] == 'Yes'\n",
    "\n",
    "# Proportion of no-shows by age category\n",
    "prop_under_18 = df[under_18 & is_no_show].size / df[under_18].size\n",
    "prop_19_to_35 = df[_19_to_35 & is_no_show].size / df[_19_to_35].size\n",
    "prop_36_to_60 = df[_36_to_59 & is_no_show].size / df[_36_to_59].size\n",
    "prop_60_plus = df[_60_plus & is_no_show].size / df[_60_plus].size\n",
    "\n",
    "# Create bar chart with proper labels\n",
    "heights = [prop_under_18, prop_19_to_35, prop_36_to_60, prop_60_plus]\n",
    "labels = ['Under 18', '19 to 35', '36 to 59', '60 plus']\n",
    "title = 'Proportion of appointment no-shows by age group'\n",
    "xlabel = 'Age group'\n",
    "ylabel = 'Proportion no-show'\n",
    "\n",
    "plot_bar_chart(heights, labels, title, xlabel, ylabel)"
   ]
  },
  {
   "cell_type": "markdown",
   "metadata": {},
   "source": [
    "The data shows that for adults (i.e. those aged 19+), older age is associated with a reduced likelihood of not showing up to an appointment. Aside from behavioural characteristics by age group, one potential reason for this could be a greater prevalance of serious health conditions, such as those already captured in the dataset.\n",
    "\n",
    "The youngest age group, under 18s, has a lower likelihood of missing an appointment than 19 to 35s: this is potentially due to an adult accompanying their children for such appointments, or the high importance of appointments for very young (or unborn) children. "
   ]
  },
  {
   "cell_type": "markdown",
   "metadata": {},
   "source": [
    "### Are men or women more likely to be no-shows?"
   ]
  },
  {
   "cell_type": "code",
   "execution_count": 20,
   "metadata": {},
   "outputs": [
    {
     "data": {
      "image/png": "[encoded data removed]",
      "text/plain": [
       "<Figure size 432x288 with 1 Axes>"
      ]
     },
     "metadata": {
      "needs_background": "light"
     },
     "output_type": "display_data"
    }
   ],
   "source": [
    "# Helper masks\n",
    "male = df['gender'] == 'M'\n",
    "female = df['gender'] == 'F'\n",
    "\n",
    "# Proportion of no-shows by gender\n",
    "prop_male = df[male & is_no_show].size / df[male].size\n",
    "prop_female = df[female & is_no_show].size / df[female].size\n",
    "\n",
    "# Create bar chart with proper labels\n",
    "heights = [prop_male, prop_female]\n",
    "labels = ['Male', 'Female']\n",
    "title = 'Proportion of appointment no-shows by gender'\n",
    "xlabel = 'Gender'\n",
    "ylabel = 'Proportion no-show'\n",
    "\n",
    "plot_bar_chart(heights, labels, title, xlabel, ylabel)"
   ]
  },
  {
   "cell_type": "markdown",
   "metadata": {},
   "source": [
    "The data shows that women are marginally more likely to not show up for an appointment, although it is not clear whether the difference is statistically significant at this stage."
   ]
  },
  {
   "cell_type": "markdown",
   "metadata": {},
   "source": [
    "### Are those on welfare more or less likely to be no-shows?"
   ]
  },
  {
   "cell_type": "code",
   "execution_count": 21,
   "metadata": {},
   "outputs": [
    {
     "data": {
      "image/png": "[encoded data removed]",
      "text/plain": [
       "<Figure size 432x288 with 1 Axes>"
      ]
     },
     "metadata": {
      "needs_background": "light"
     },
     "output_type": "display_data"
    }
   ],
   "source": [
    "# Helper masks\n",
    "has_welfare = df['has_scholarship'] == 1\n",
    "no_welfare = df['has_scholarship'] == 0\n",
    "\n",
    "# Proportion of no-shows by welfare status\n",
    "prop_has_welfare = df[has_welfare & is_no_show].size / df[has_welfare].size\n",
    "prop_no_welfare = df[no_welfare & is_no_show].size / df[no_welfare].size\n",
    "\n",
    "# Create bar chart with proper labels\n",
    "heights = [prop_has_welfare, prop_no_welfare]\n",
    "labels = ['On welfare', 'Not on welfare']\n",
    "title = 'Proportion of appointment no-shows by welfare status'\n",
    "xlabel = 'Welfare status'\n",
    "ylabel = 'Proportion no-show'\n",
    "\n",
    "plot_bar_chart(heights, labels, title, xlabel, ylabel)"
   ]
  },
  {
   "cell_type": "markdown",
   "metadata": {},
   "source": [
    "The data shows that those on welfare are more likely not to show up for an appointment. "
   ]
  },
  {
   "cell_type": "markdown",
   "metadata": {},
   "source": [
    "### Does having a medical condition or handicap make being a no-show more or less likely?\n",
    "\n",
    "Numerous different analyses could be conducted here, including examining combinations of different conditions and/or handicaps in parallel. For the sake of simplicity, only two pieces of analysis are conducted.\n",
    "\n",
    "First, we compare the rates of no-shows among those without any conditions with those who have each of the conditions (hypertension, diabetes or alcoholism). Note that individuals can (and do, in this dataset) have multiple conditions, although such analysis is not conducted here."
   ]
  },
  {
   "cell_type": "code",
   "execution_count": 22,
   "metadata": {},
   "outputs": [
    {
     "data": {
      "image/png": "[encoded data removed]",
      "text/plain": [
       "<Figure size 432x288 with 1 Axes>"
      ]
     },
     "metadata": {
      "needs_background": "light"
     },
     "output_type": "display_data"
    }
   ],
   "source": [
    "# Helper masks\n",
    "no_conditions = df['num_conditions'] == 0\n",
    "has_hypertension = df['has_hypertension'] == 1\n",
    "has_diabetes = df['has_diabetes'] == 1\n",
    "has_alcoholism = df['has_alcoholism'] == 1\n",
    "\n",
    "# Proportion of no-shows by condition status\n",
    "prop_no_conditions = df[no_conditions & is_no_show].size / df[no_conditions].size\n",
    "prop_has_hypertension = df[has_hypertension & is_no_show].size / df[has_hypertension].size\n",
    "prop_has_diabetes = df[has_diabetes & is_no_show].size / df[has_diabetes].size\n",
    "prop_has_alcoholism = df[has_alcoholism & is_no_show].size / df[has_alcoholism].size\n",
    "\n",
    "# Create bar chart with proper labels\n",
    "heights = [prop_no_conditions, prop_has_hypertension, prop_has_diabetes, prop_has_alcoholism]\n",
    "labels = ['Condition-free', 'Hypertension', 'Diabetes', 'Alcoholism']\n",
    "title = 'Proportion of appointment no-shows by medical condition status'\n",
    "xlabel = 'Medical condition status'\n",
    "ylabel = 'Proportion no-show'\n",
    "\n",
    "plot_bar_chart(heights, labels, title, xlabel, ylabel)"
   ]
  },
  {
   "cell_type": "markdown",
   "metadata": {},
   "source": [
    "The data shows that patients without any of the three conditions listed are more likely to be a no-show to an appointment, which is an intuitive result. \n",
    "\n",
    "Individuals with hypertension or diabetes - both serious conditions which require regular monitoring - are associated with the lowest no-show rates, as might be expected.\n",
    "\n",
    "We would also expect to see a similar pattern with handicaps, in which those with more handicaps would be less likely to be a no-show. This analysis is given below, alongside an examination of how the number of medical conditions affects the no-show rate. \n",
    "\n",
    "Note that the maximum number of handicaps in the dataset is 4, whilst the theoretical maximum number of conditions (using the data provided) is only 3. "
   ]
  },
  {
   "cell_type": "code",
   "execution_count": 23,
   "metadata": {},
   "outputs": [
    {
     "data": {
      "image/png": "[encoded data removed]",
      "text/plain": [
       "<Figure size 720x288 with 1 Axes>"
      ]
     },
     "metadata": {
      "needs_background": "light"
     },
     "output_type": "display_data"
    }
   ],
   "source": [
    "num_conditions = df[is_no_show].groupby('num_conditions')['num_conditions'].count()\n",
    "num_conditions = num_conditions.astype(float)\n",
    "\n",
    "for i in range(4): # Convert to proportions\n",
    "    num_conditions[i] /= len(df.query('num_conditions == {}'.format(i)).index)\n",
    "    \n",
    "num_handicaps = df[is_no_show].groupby('num_handicaps')['num_handicaps'].count()\n",
    "num_handicaps = num_handicaps.astype(float)\n",
    "\n",
    "for i in range(5): # Convert to proportions\n",
    "    num_handicaps[i] /= len(df.query('num_handicaps == {}'.format(i)).index)\n",
    "\n",
    "num_conditions[4] = 0  # Add in missing value\n",
    "\n",
    "title = 'Proportion of appointment no-shows by number of conditions or handicaps'\n",
    "xlabel = 'Number of conditions or handicaps'\n",
    "ylabel = 'Proportion no-show'\n",
    "\n",
    "plot_grouped_bar(num_conditions, 'No. conditions', num_handicaps, 'No. handicaps', title, xlabel, ylabel)"
   ]
  },
  {
   "cell_type": "markdown",
   "metadata": {},
   "source": [
    "Confirming the previous analysis, having at least one medical condition is associated with lower rates of no-shows, although having more than one is not for this dataset.\n",
    "\n",
    "Interestingly, individuals with multiple disabilities are more likely not to show to an appointment - despite the appointment's potential relatively higher importance. This might be due to individuals with multiple disabilities sometimes not being *able* to make it to an appointment, although the exact reason is unclear. "
   ]
  },
  {
   "cell_type": "markdown",
   "metadata": {},
   "source": [
    "### To what extent does booking in advance change the likelihood of no-shows?"
   ]
  },
  {
   "cell_type": "code",
   "execution_count": 24,
   "metadata": {},
   "outputs": [
    {
     "data": {
      "image/png": "[encoded data removed]",
      "text/plain": [
       "<Figure size 432x288 with 1 Axes>"
      ]
     },
     "metadata": {
      "needs_background": "light"
     },
     "output_type": "display_data"
    }
   ],
   "source": [
    "# Helper masks\n",
    "same_day = df['days_in_advance'] == 0\n",
    "_1_to_3_days = (df['days_in_advance'] >= 1) & (df['days_in_advance'] <= 3)\n",
    "_4_to_9_days = (df['days_in_advance'] >= 4) & (df['days_in_advance'] <= 9)\n",
    "_10_to_29_days = (df['days_in_advance'] >= 10) & (df['days_in_advance'] <= 29)\n",
    "_30_plus_days = df['days_in_advance'] >= 30\n",
    "\n",
    "# Proportion of no-shows by age category\n",
    "prop_same_day = df[same_day & is_no_show].size / df[same_day].size\n",
    "prop_1_to_3_days = df[_1_to_3_days & is_no_show].size / df[_1_to_3_days].size\n",
    "prop_4_to_9_days = df[_4_to_9_days & is_no_show].size / df[_4_to_9_days].size\n",
    "prop_10_to_29_days = df[_10_to_29_days & is_no_show].size / df[_10_to_29_days].size\n",
    "prop_30_plus_days = df[_30_plus_days & is_no_show].size / df[_30_plus_days].size\n",
    "\n",
    "# Create bar chart with proper labels\n",
    "heights = [prop_same_day, prop_1_to_3_days, prop_4_to_9_days, prop_10_to_29_days, prop_30_plus_days]\n",
    "labels = ['Same day', '1 to 3 days', '4 to 9 days', '10 to 29 days', '30+ days']\n",
    "title = 'Proportion of appointment no-shows by days booked in advance'\n",
    "xlabel = 'Number of days booked in advance'\n",
    "ylabel = 'Proportion no-show'\n",
    "\n",
    "plot_bar_chart(heights, labels, title, xlabel, ylabel)"
   ]
  },
  {
   "cell_type": "markdown",
   "metadata": {},
   "source": [
    "The data shows that booking further in advance is associated with a greater likelihood of no-shows, which is an intuitive result since individuals might be more likely to forget their appointment.\n",
    "\n",
    "SMS reminders are one method to mitigate this problem, and the dataset contains boolean data on whether an individual was sent one of these (presumably close to the appointment date e.g. 1-3 days before). \n",
    "\n",
    "The chart below splits the above chart according to whether an SMS reminder was sent to investigate the impact of these here. "
   ]
  },
  {
   "cell_type": "code",
   "execution_count": 25,
   "metadata": {},
   "outputs": [
    {
     "data": {
      "image/png": "[encoded data removed]",
      "text/plain": [
       "<Figure size 720x288 with 1 Axes>"
      ]
     },
     "metadata": {
      "needs_background": "light"
     },
     "output_type": "display_data"
    }
   ],
   "source": [
    "# Helper masks\n",
    "received_SMS = df['received_SMS'] == 1\n",
    "no_SMS = df['received_SMS'] == 0\n",
    "\n",
    "# Proportion of no-shows by days_in_advance & SMS received category\n",
    "same_received = 0  # SMSs not sent for appointments booked on the same day\n",
    "_1_to_3_received = df[_1_to_3_days & received_SMS & is_no_show].size / df[_1_to_3_days & received_SMS].size\n",
    "_4_to_9_received = df[_4_to_9_days & received_SMS & is_no_show].size / df[_4_to_9_days & received_SMS].size\n",
    "_10_to_29_received = df[_10_to_29_days & received_SMS & is_no_show].size / df[_10_to_29_days & received_SMS].size\n",
    "_30_plus_received = df[_30_plus_days & received_SMS & is_no_show].size / df[_30_plus_days & received_SMS].size\n",
    "same_no = df[same_day & no_SMS & is_no_show].size / df[same_day & no_SMS].size\n",
    "_1_to_3_no = df[_1_to_3_days & no_SMS & is_no_show].size / df[_1_to_3_days & no_SMS].size\n",
    "_4_to_9_no = df[_4_to_9_days & no_SMS & is_no_show].size / df[_4_to_9_days & no_SMS].size\n",
    "_10_to_29_no = df[_10_to_29_days & no_SMS & is_no_show].size / df[_10_to_29_days & no_SMS].size\n",
    "_30_plus_no = df[_30_plus_days & no_SMS & is_no_show].size / df[_30_plus_days & no_SMS].size\n",
    "\n",
    "series1 = [same_received, _1_to_3_received, _4_to_9_received, _10_to_29_received, _30_plus_received]\n",
    "series1_label = 'Received SMS'\n",
    "series2 = [same_no, _1_to_3_no, _4_to_9_no, _10_to_29_no, _30_plus_no]\n",
    "series2_label = 'No SMS'\n",
    "title = 'Proportion of appointment no-shows by days booked in advance & SMS received'\n",
    "xlabel = 'Number of days booked in advance'\n",
    "ylabel = 'Proportion no-show'\n",
    "xticks = labels\n",
    "\n",
    "plot_grouped_bar(series1, series1_label, series2, series2_label, title, xlabel, ylabel, xticks)"
   ]
  },
  {
   "cell_type": "markdown",
   "metadata": {},
   "source": [
    "This chart shows that individuals receiving an SMS is indeed associated with a lower likelihood of being a no-show, although not sufficiently so to mitigate the increase likelihood from booking in advance. This suggests that other factors are important here, such as individuals having made other plans or sought alternative treatment in the meantime. "
   ]
  },
  {
   "cell_type": "markdown",
   "metadata": {},
   "source": [
    "<a id='conclusions'></a>\n",
    "## Conclusions\n",
    "\n",
    "A number of associations have been found in the data. In particular:\n",
    "\n",
    "- Older individuals are generally less likely to be no-shows\n",
    "- Women are marginally more likely to be no-shows, but it's not clear if this difference is statistically significant \n",
    "- Individuals on welfare are generally more likely to be no-shows \n",
    "- Having a medical condition is associated with a lower likelihood of being a no-show\n",
    "- Having one disability is associated with a slightly lower likelihood of being a no-show, but having multiple disabilities is associated with a higher likelihood of being a no-show (potentially due to issues attending appointments)\n",
    "- Booking further in advance is associated with a higher likelihood of being a no-show. This can be partially, but not fully, mitigated through the sending of SMS reminders. \n",
    "\n",
    "Note, however, that these are all correlations - and correlation does not imply causation. Further work would be needed to draw causal inferences.\n",
    "\n",
    "Moreover, a deeper analysis which looks at more of these variables in combination would be needed to validate these findings. For example, it was hypothesised that there is a correlation between age and prevalance of the listed medical conditions, but this was not validated - and even if it were, it would not be clear which variable (or both) is causal here."
   ]
  }
 ],
 "metadata": {
  "kernelspec": {
   "display_name": "Python [conda env:DAND_env]",
   "language": "python",
   "name": "conda-env-DAND_env-py"
  },
  "language_info": {
   "codemirror_mode": {
    "name": "ipython",
    "version": 3
   },
   "file_extension": ".py",
   "mimetype": "text/x-python",
   "name": "python",
   "nbconvert_exporter": "python",
   "pygments_lexer": "ipython3",
   "version": "3.9.7"
  }
 },
 "nbformat": 4,
 "nbformat_minor": 2
}
